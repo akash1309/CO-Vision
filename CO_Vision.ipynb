{
  "nbformat": 4,
  "nbformat_minor": 0,
  "metadata": {
    "colab": {
      "name": "Corona.ipynb",
      "provenance": [],
      "toc_visible": true
    },
    "kernelspec": {
      "name": "python3",
      "display_name": "Python 3"
    },
    "accelerator": "GPU"
  },
  "cells": [
    {
      "cell_type": "markdown",
      "metadata": {
        "id": "dq9AM1r4Xker",
        "colab_type": "text"
      },
      "source": [
        "# Predicting Number of Corona Cases In the World\n",
        "\n",
        "- Predicting the number of corona cases in the upcoming future.\n",
        "- The dataset for this problem is taken from Kaggle.\n",
        "(https://www.kaggle.com/imdevskp/corona-virus-report).\n",
        "- The data of whole world is used to predicted the future cases of Corona."
      ]
    },
    {
      "cell_type": "markdown",
      "metadata": {
        "id": "vbdKX4P-mLaR",
        "colab_type": "text"
      },
      "source": [
        "## 1) Importing the libraries\n"
      ]
    },
    {
      "cell_type": "code",
      "metadata": {
        "id": "XYt8ZyIIXhdM",
        "colab_type": "code",
        "colab": {}
      },
      "source": [
        "import numpy as np\n",
        "import matplotlib.pyplot as plt\n",
        "import pandas as pd\n",
        "import torch\n",
        "import torch.nn as nn"
      ],
      "execution_count": 0,
      "outputs": []
    },
    {
      "cell_type": "markdown",
      "metadata": {
        "id": "KE2cZW_emQwX",
        "colab_type": "text"
      },
      "source": [
        "## 2) Importing the dataset\n"
      ]
    },
    {
      "cell_type": "code",
      "metadata": {
        "id": "qjEWRvbIX7NH",
        "colab_type": "code",
        "outputId": "1d3dde67-9b43-4ec3-dca5-ef9f82066e70",
        "colab": {
          "base_uri": "https://localhost:8080/",
          "height": 204
        }
      },
      "source": [
        "df = pd.read_csv('../corona-virus-report/covid_19_clean_complete.csv',parse_dates=['Date'])\n",
        "df.head()"
      ],
      "execution_count": 246,
      "outputs": [
        {
          "output_type": "execute_result",
          "data": {
            "text/html": [
              "<div>\n",
              "<style scoped>\n",
              "    .dataframe tbody tr th:only-of-type {\n",
              "        vertical-align: middle;\n",
              "    }\n",
              "\n",
              "    .dataframe tbody tr th {\n",
              "        vertical-align: top;\n",
              "    }\n",
              "\n",
              "    .dataframe thead th {\n",
              "        text-align: right;\n",
              "    }\n",
              "</style>\n",
              "<table border=\"1\" class=\"dataframe\">\n",
              "  <thead>\n",
              "    <tr style=\"text-align: right;\">\n",
              "      <th></th>\n",
              "      <th>Province/State</th>\n",
              "      <th>Country/Region</th>\n",
              "      <th>Lat</th>\n",
              "      <th>Long</th>\n",
              "      <th>Date</th>\n",
              "      <th>Confirmed</th>\n",
              "      <th>Deaths</th>\n",
              "      <th>Recovered</th>\n",
              "    </tr>\n",
              "  </thead>\n",
              "  <tbody>\n",
              "    <tr>\n",
              "      <th>0</th>\n",
              "      <td>NaN</td>\n",
              "      <td>Afghanistan</td>\n",
              "      <td>33.0000</td>\n",
              "      <td>65.0000</td>\n",
              "      <td>2020-01-22</td>\n",
              "      <td>0</td>\n",
              "      <td>0</td>\n",
              "      <td>0</td>\n",
              "    </tr>\n",
              "    <tr>\n",
              "      <th>1</th>\n",
              "      <td>NaN</td>\n",
              "      <td>Albania</td>\n",
              "      <td>41.1533</td>\n",
              "      <td>20.1683</td>\n",
              "      <td>2020-01-22</td>\n",
              "      <td>0</td>\n",
              "      <td>0</td>\n",
              "      <td>0</td>\n",
              "    </tr>\n",
              "    <tr>\n",
              "      <th>2</th>\n",
              "      <td>NaN</td>\n",
              "      <td>Algeria</td>\n",
              "      <td>28.0339</td>\n",
              "      <td>1.6596</td>\n",
              "      <td>2020-01-22</td>\n",
              "      <td>0</td>\n",
              "      <td>0</td>\n",
              "      <td>0</td>\n",
              "    </tr>\n",
              "    <tr>\n",
              "      <th>3</th>\n",
              "      <td>NaN</td>\n",
              "      <td>Andorra</td>\n",
              "      <td>42.5063</td>\n",
              "      <td>1.5218</td>\n",
              "      <td>2020-01-22</td>\n",
              "      <td>0</td>\n",
              "      <td>0</td>\n",
              "      <td>0</td>\n",
              "    </tr>\n",
              "    <tr>\n",
              "      <th>4</th>\n",
              "      <td>NaN</td>\n",
              "      <td>Angola</td>\n",
              "      <td>-11.2027</td>\n",
              "      <td>17.8739</td>\n",
              "      <td>2020-01-22</td>\n",
              "      <td>0</td>\n",
              "      <td>0</td>\n",
              "      <td>0</td>\n",
              "    </tr>\n",
              "  </tbody>\n",
              "</table>\n",
              "</div>"
            ],
            "text/plain": [
              "  Province/State Country/Region      Lat  ...  Confirmed Deaths  Recovered\n",
              "0            NaN    Afghanistan  33.0000  ...          0      0          0\n",
              "1            NaN        Albania  41.1533  ...          0      0          0\n",
              "2            NaN        Algeria  28.0339  ...          0      0          0\n",
              "3            NaN        Andorra  42.5063  ...          0      0          0\n",
              "4            NaN         Angola -11.2027  ...          0      0          0\n",
              "\n",
              "[5 rows x 8 columns]"
            ]
          },
          "metadata": {
            "tags": []
          },
          "execution_count": 246
        }
      ]
    },
    {
      "cell_type": "code",
      "metadata": {
        "id": "rHIjioN0YJVn",
        "colab_type": "code",
        "outputId": "4ff1e2e3-2bd0-4100-969a-2535c75f1fc1",
        "colab": {
          "base_uri": "https://localhost:8080/",
          "height": 204
        }
      },
      "source": [
        "df.drop('Province/State',axis = 1,inplace=True)\n",
        "df.head()"
      ],
      "execution_count": 247,
      "outputs": [
        {
          "output_type": "execute_result",
          "data": {
            "text/html": [
              "<div>\n",
              "<style scoped>\n",
              "    .dataframe tbody tr th:only-of-type {\n",
              "        vertical-align: middle;\n",
              "    }\n",
              "\n",
              "    .dataframe tbody tr th {\n",
              "        vertical-align: top;\n",
              "    }\n",
              "\n",
              "    .dataframe thead th {\n",
              "        text-align: right;\n",
              "    }\n",
              "</style>\n",
              "<table border=\"1\" class=\"dataframe\">\n",
              "  <thead>\n",
              "    <tr style=\"text-align: right;\">\n",
              "      <th></th>\n",
              "      <th>Country/Region</th>\n",
              "      <th>Lat</th>\n",
              "      <th>Long</th>\n",
              "      <th>Date</th>\n",
              "      <th>Confirmed</th>\n",
              "      <th>Deaths</th>\n",
              "      <th>Recovered</th>\n",
              "    </tr>\n",
              "  </thead>\n",
              "  <tbody>\n",
              "    <tr>\n",
              "      <th>0</th>\n",
              "      <td>Afghanistan</td>\n",
              "      <td>33.0000</td>\n",
              "      <td>65.0000</td>\n",
              "      <td>2020-01-22</td>\n",
              "      <td>0</td>\n",
              "      <td>0</td>\n",
              "      <td>0</td>\n",
              "    </tr>\n",
              "    <tr>\n",
              "      <th>1</th>\n",
              "      <td>Albania</td>\n",
              "      <td>41.1533</td>\n",
              "      <td>20.1683</td>\n",
              "      <td>2020-01-22</td>\n",
              "      <td>0</td>\n",
              "      <td>0</td>\n",
              "      <td>0</td>\n",
              "    </tr>\n",
              "    <tr>\n",
              "      <th>2</th>\n",
              "      <td>Algeria</td>\n",
              "      <td>28.0339</td>\n",
              "      <td>1.6596</td>\n",
              "      <td>2020-01-22</td>\n",
              "      <td>0</td>\n",
              "      <td>0</td>\n",
              "      <td>0</td>\n",
              "    </tr>\n",
              "    <tr>\n",
              "      <th>3</th>\n",
              "      <td>Andorra</td>\n",
              "      <td>42.5063</td>\n",
              "      <td>1.5218</td>\n",
              "      <td>2020-01-22</td>\n",
              "      <td>0</td>\n",
              "      <td>0</td>\n",
              "      <td>0</td>\n",
              "    </tr>\n",
              "    <tr>\n",
              "      <th>4</th>\n",
              "      <td>Angola</td>\n",
              "      <td>-11.2027</td>\n",
              "      <td>17.8739</td>\n",
              "      <td>2020-01-22</td>\n",
              "      <td>0</td>\n",
              "      <td>0</td>\n",
              "      <td>0</td>\n",
              "    </tr>\n",
              "  </tbody>\n",
              "</table>\n",
              "</div>"
            ],
            "text/plain": [
              "  Country/Region      Lat     Long       Date  Confirmed  Deaths  Recovered\n",
              "0    Afghanistan  33.0000  65.0000 2020-01-22          0       0          0\n",
              "1        Albania  41.1533  20.1683 2020-01-22          0       0          0\n",
              "2        Algeria  28.0339   1.6596 2020-01-22          0       0          0\n",
              "3        Andorra  42.5063   1.5218 2020-01-22          0       0          0\n",
              "4         Angola -11.2027  17.8739 2020-01-22          0       0          0"
            ]
          },
          "metadata": {
            "tags": []
          },
          "execution_count": 247
        }
      ]
    },
    {
      "cell_type": "code",
      "metadata": {
        "id": "9yF6tFvJY6al",
        "colab_type": "code",
        "outputId": "9af47d45-f74e-4bf3-9f18-e2f4fff4c13c",
        "colab": {
          "base_uri": "https://localhost:8080/",
          "height": 255
        }
      },
      "source": [
        "df.info() #Getting information about different columns datatype"
      ],
      "execution_count": 248,
      "outputs": [
        {
          "output_type": "stream",
          "text": [
            "<class 'pandas.core.frame.DataFrame'>\n",
            "RangeIndex: 22794 entries, 0 to 22793\n",
            "Data columns (total 7 columns):\n",
            " #   Column          Non-Null Count  Dtype         \n",
            "---  ------          --------------  -----         \n",
            " 0   Country/Region  22794 non-null  object        \n",
            " 1   Lat             22794 non-null  float64       \n",
            " 2   Long            22794 non-null  float64       \n",
            " 3   Date            22794 non-null  datetime64[ns]\n",
            " 4   Confirmed       22794 non-null  int64         \n",
            " 5   Deaths          22794 non-null  int64         \n",
            " 6   Recovered       22794 non-null  int64         \n",
            "dtypes: datetime64[ns](1), float64(2), int64(3), object(1)\n",
            "memory usage: 1.2+ MB\n"
          ],
          "name": "stdout"
        }
      ]
    },
    {
      "cell_type": "code",
      "metadata": {
        "id": "zzLfKn-9rqSd",
        "colab_type": "code",
        "colab": {
          "base_uri": "https://localhost:8080/",
          "height": 34
        },
        "outputId": "41ca842d-bfde-4f07-c14a-e0c8730d0d29"
      },
      "source": [
        "df['Confirmed'].max(), df['Recovered'].max() , df['Deaths'].max()"
      ],
      "execution_count": 249,
      "outputs": [
        {
          "output_type": "execute_result",
          "data": {
            "text/plain": [
              "(699706, 83114, 36773)"
            ]
          },
          "metadata": {
            "tags": []
          },
          "execution_count": 249
        }
      ]
    },
    {
      "cell_type": "markdown",
      "metadata": {
        "id": "Zd5Hg9xzUFWT",
        "colab_type": "text"
      },
      "source": [
        "## 3) Checking Plot for number of confirmed,recovered and deaths due to corona virus"
      ]
    },
    {
      "cell_type": "code",
      "metadata": {
        "id": "Awx8mSRHsv2h",
        "colab_type": "code",
        "colab": {
          "base_uri": "https://localhost:8080/",
          "height": 282
        },
        "outputId": "03dbe6ad-8b50-46fc-c1ef-71890692b3e5"
      },
      "source": [
        "plt.plot(df['Confirmed'])"
      ],
      "execution_count": 250,
      "outputs": [
        {
          "output_type": "execute_result",
          "data": {
            "text/plain": [
              "[<matplotlib.lines.Line2D at 0x7f2e599a5f28>]"
            ]
          },
          "metadata": {
            "tags": []
          },
          "execution_count": 250
        },
        {
          "output_type": "display_data",
          "data": {
            "image/png": "[encoded data removed]",
            "text/plain": [
              "<Figure size 432x288 with 1 Axes>"
            ]
          },
          "metadata": {
            "tags": [],
            "needs_background": "light"
          }
        }
      ]
    },
    {
      "cell_type": "code",
      "metadata": {
        "id": "gk7MHWjJs-D3",
        "colab_type": "code",
        "colab": {
          "base_uri": "https://localhost:8080/",
          "height": 282
        },
        "outputId": "494ab37e-b41a-4e5b-f4e3-3cb4ac831b8b"
      },
      "source": [
        "plt.plot(df['Recovered'])"
      ],
      "execution_count": 251,
      "outputs": [
        {
          "output_type": "execute_result",
          "data": {
            "text/plain": [
              "[<matplotlib.lines.Line2D at 0x7f2e59a4bc88>]"
            ]
          },
          "metadata": {
            "tags": []
          },
          "execution_count": 251
        },
        {
          "output_type": "display_data",
          "data": {
            "image/png": "[encoded data removed]",
            "text/plain": [
              "<Figure size 432x288 with 1 Axes>"
            ]
          },
          "metadata": {
            "tags": [],
            "needs_background": "light"
          }
        }
      ]
    },
    {
      "cell_type": "code",
      "metadata": {
        "id": "AXe6fuZFtB6F",
        "colab_type": "code",
        "colab": {
          "base_uri": "https://localhost:8080/",
          "height": 282
        },
        "outputId": "a389597f-5e8f-4abd-af08-a15cfa7dc7c3"
      },
      "source": [
        "plt.plot(df['Deaths'])"
      ],
      "execution_count": 255,
      "outputs": [
        {
          "output_type": "execute_result",
          "data": {
            "text/plain": [
              "[<matplotlib.lines.Line2D at 0x7f2e59c07b00>]"
            ]
          },
          "metadata": {
            "tags": []
          },
          "execution_count": 255
        },
        {
          "output_type": "display_data",
          "data": {
            "image/png": "[encoded data removed]",
            "text/plain": [
              "<Figure size 432x288 with 1 Axes>"
            ]
          },
          "metadata": {
            "tags": [],
            "needs_background": "light"
          }
        }
      ]
    },
    {
      "cell_type": "markdown",
      "metadata": {
        "id": "FtkrOAxuUXxl",
        "colab_type": "text"
      },
      "source": [
        "## 4) Preprocessing the Data.\n",
        "\n",
        "- We will be dealing with the number of confirmed cases of Corona"
      ]
    },
    {
      "cell_type": "code",
      "metadata": {
        "id": "BhnvIdvsXLsc",
        "colab_type": "code",
        "colab": {
          "base_uri": "https://localhost:8080/",
          "height": 419
        },
        "outputId": "92c723ac-d07b-4a8d-8c06-d9becfbc5f78"
      },
      "source": [
        "df.groupby('Date').head()"
      ],
      "execution_count": 256,
      "outputs": [
        {
          "output_type": "execute_result",
          "data": {
            "text/html": [
              "<div>\n",
              "<style scoped>\n",
              "    .dataframe tbody tr th:only-of-type {\n",
              "        vertical-align: middle;\n",
              "    }\n",
              "\n",
              "    .dataframe tbody tr th {\n",
              "        vertical-align: top;\n",
              "    }\n",
              "\n",
              "    .dataframe thead th {\n",
              "        text-align: right;\n",
              "    }\n",
              "</style>\n",
              "<table border=\"1\" class=\"dataframe\">\n",
              "  <thead>\n",
              "    <tr style=\"text-align: right;\">\n",
              "      <th></th>\n",
              "      <th>Country/Region</th>\n",
              "      <th>Lat</th>\n",
              "      <th>Long</th>\n",
              "      <th>Date</th>\n",
              "      <th>Confirmed</th>\n",
              "      <th>Deaths</th>\n",
              "      <th>Recovered</th>\n",
              "    </tr>\n",
              "  </thead>\n",
              "  <tbody>\n",
              "    <tr>\n",
              "      <th>0</th>\n",
              "      <td>Afghanistan</td>\n",
              "      <td>33.0000</td>\n",
              "      <td>65.0000</td>\n",
              "      <td>2020-01-22</td>\n",
              "      <td>0</td>\n",
              "      <td>0</td>\n",
              "      <td>0</td>\n",
              "    </tr>\n",
              "    <tr>\n",
              "      <th>1</th>\n",
              "      <td>Albania</td>\n",
              "      <td>41.1533</td>\n",
              "      <td>20.1683</td>\n",
              "      <td>2020-01-22</td>\n",
              "      <td>0</td>\n",
              "      <td>0</td>\n",
              "      <td>0</td>\n",
              "    </tr>\n",
              "    <tr>\n",
              "      <th>2</th>\n",
              "      <td>Algeria</td>\n",
              "      <td>28.0339</td>\n",
              "      <td>1.6596</td>\n",
              "      <td>2020-01-22</td>\n",
              "      <td>0</td>\n",
              "      <td>0</td>\n",
              "      <td>0</td>\n",
              "    </tr>\n",
              "    <tr>\n",
              "      <th>3</th>\n",
              "      <td>Andorra</td>\n",
              "      <td>42.5063</td>\n",
              "      <td>1.5218</td>\n",
              "      <td>2020-01-22</td>\n",
              "      <td>0</td>\n",
              "      <td>0</td>\n",
              "      <td>0</td>\n",
              "    </tr>\n",
              "    <tr>\n",
              "      <th>4</th>\n",
              "      <td>Angola</td>\n",
              "      <td>-11.2027</td>\n",
              "      <td>17.8739</td>\n",
              "      <td>2020-01-22</td>\n",
              "      <td>0</td>\n",
              "      <td>0</td>\n",
              "      <td>0</td>\n",
              "    </tr>\n",
              "    <tr>\n",
              "      <th>...</th>\n",
              "      <td>...</td>\n",
              "      <td>...</td>\n",
              "      <td>...</td>\n",
              "      <td>...</td>\n",
              "      <td>...</td>\n",
              "      <td>...</td>\n",
              "      <td>...</td>\n",
              "    </tr>\n",
              "    <tr>\n",
              "      <th>22532</th>\n",
              "      <td>Afghanistan</td>\n",
              "      <td>33.0000</td>\n",
              "      <td>65.0000</td>\n",
              "      <td>2020-04-17</td>\n",
              "      <td>906</td>\n",
              "      <td>30</td>\n",
              "      <td>99</td>\n",
              "    </tr>\n",
              "    <tr>\n",
              "      <th>22533</th>\n",
              "      <td>Albania</td>\n",
              "      <td>41.1533</td>\n",
              "      <td>20.1683</td>\n",
              "      <td>2020-04-17</td>\n",
              "      <td>539</td>\n",
              "      <td>26</td>\n",
              "      <td>283</td>\n",
              "    </tr>\n",
              "    <tr>\n",
              "      <th>22534</th>\n",
              "      <td>Algeria</td>\n",
              "      <td>28.0339</td>\n",
              "      <td>1.6596</td>\n",
              "      <td>2020-04-17</td>\n",
              "      <td>2418</td>\n",
              "      <td>364</td>\n",
              "      <td>846</td>\n",
              "    </tr>\n",
              "    <tr>\n",
              "      <th>22535</th>\n",
              "      <td>Andorra</td>\n",
              "      <td>42.5063</td>\n",
              "      <td>1.5218</td>\n",
              "      <td>2020-04-17</td>\n",
              "      <td>696</td>\n",
              "      <td>35</td>\n",
              "      <td>191</td>\n",
              "    </tr>\n",
              "    <tr>\n",
              "      <th>22536</th>\n",
              "      <td>Angola</td>\n",
              "      <td>-11.2027</td>\n",
              "      <td>17.8739</td>\n",
              "      <td>2020-04-17</td>\n",
              "      <td>19</td>\n",
              "      <td>2</td>\n",
              "      <td>5</td>\n",
              "    </tr>\n",
              "  </tbody>\n",
              "</table>\n",
              "<p>435 rows × 7 columns</p>\n",
              "</div>"
            ],
            "text/plain": [
              "      Country/Region      Lat     Long       Date  Confirmed  Deaths  Recovered\n",
              "0        Afghanistan  33.0000  65.0000 2020-01-22          0       0          0\n",
              "1            Albania  41.1533  20.1683 2020-01-22          0       0          0\n",
              "2            Algeria  28.0339   1.6596 2020-01-22          0       0          0\n",
              "3            Andorra  42.5063   1.5218 2020-01-22          0       0          0\n",
              "4             Angola -11.2027  17.8739 2020-01-22          0       0          0\n",
              "...              ...      ...      ...        ...        ...     ...        ...\n",
              "22532    Afghanistan  33.0000  65.0000 2020-04-17        906      30         99\n",
              "22533        Albania  41.1533  20.1683 2020-04-17        539      26        283\n",
              "22534        Algeria  28.0339   1.6596 2020-04-17       2418     364        846\n",
              "22535        Andorra  42.5063   1.5218 2020-04-17        696      35        191\n",
              "22536         Angola -11.2027  17.8739 2020-04-17         19       2          5\n",
              "\n",
              "[435 rows x 7 columns]"
            ]
          },
          "metadata": {
            "tags": []
          },
          "execution_count": 256
        }
      ]
    },
    {
      "cell_type": "code",
      "metadata": {
        "id": "6bU1OslWYERv",
        "colab_type": "code",
        "colab": {
          "base_uri": "https://localhost:8080/",
          "height": 204
        },
        "outputId": "8d93cfd2-e230-4adb-b0eb-3bf3d01dd4a6"
      },
      "source": [
        "X = df[['Date','Confirmed','Deaths','Recovered']]\n",
        "X.head()"
      ],
      "execution_count": 257,
      "outputs": [
        {
          "output_type": "execute_result",
          "data": {
            "text/html": [
              "<div>\n",
              "<style scoped>\n",
              "    .dataframe tbody tr th:only-of-type {\n",
              "        vertical-align: middle;\n",
              "    }\n",
              "\n",
              "    .dataframe tbody tr th {\n",
              "        vertical-align: top;\n",
              "    }\n",
              "\n",
              "    .dataframe thead th {\n",
              "        text-align: right;\n",
              "    }\n",
              "</style>\n",
              "<table border=\"1\" class=\"dataframe\">\n",
              "  <thead>\n",
              "    <tr style=\"text-align: right;\">\n",
              "      <th></th>\n",
              "      <th>Date</th>\n",
              "      <th>Confirmed</th>\n",
              "      <th>Deaths</th>\n",
              "      <th>Recovered</th>\n",
              "    </tr>\n",
              "  </thead>\n",
              "  <tbody>\n",
              "    <tr>\n",
              "      <th>0</th>\n",
              "      <td>2020-01-22</td>\n",
              "      <td>0</td>\n",
              "      <td>0</td>\n",
              "      <td>0</td>\n",
              "    </tr>\n",
              "    <tr>\n",
              "      <th>1</th>\n",
              "      <td>2020-01-22</td>\n",
              "      <td>0</td>\n",
              "      <td>0</td>\n",
              "      <td>0</td>\n",
              "    </tr>\n",
              "    <tr>\n",
              "      <th>2</th>\n",
              "      <td>2020-01-22</td>\n",
              "      <td>0</td>\n",
              "      <td>0</td>\n",
              "      <td>0</td>\n",
              "    </tr>\n",
              "    <tr>\n",
              "      <th>3</th>\n",
              "      <td>2020-01-22</td>\n",
              "      <td>0</td>\n",
              "      <td>0</td>\n",
              "      <td>0</td>\n",
              "    </tr>\n",
              "    <tr>\n",
              "      <th>4</th>\n",
              "      <td>2020-01-22</td>\n",
              "      <td>0</td>\n",
              "      <td>0</td>\n",
              "      <td>0</td>\n",
              "    </tr>\n",
              "  </tbody>\n",
              "</table>\n",
              "</div>"
            ],
            "text/plain": [
              "        Date  Confirmed  Deaths  Recovered\n",
              "0 2020-01-22          0       0          0\n",
              "1 2020-01-22          0       0          0\n",
              "2 2020-01-22          0       0          0\n",
              "3 2020-01-22          0       0          0\n",
              "4 2020-01-22          0       0          0"
            ]
          },
          "metadata": {
            "tags": []
          },
          "execution_count": 257
        }
      ]
    },
    {
      "cell_type": "code",
      "metadata": {
        "id": "3oFEiSynYad-",
        "colab_type": "code",
        "colab": {
          "base_uri": "https://localhost:8080/",
          "height": 272
        },
        "outputId": "bff2e914-8193-4f5f-fd80-245e40f2187a"
      },
      "source": [
        "a = X.groupby(['Date']).sum()\n",
        "print(a)\n",
        "\n",
        "X = a['Confirmed']\n",
        "X = X.to_frame()"
      ],
      "execution_count": 261,
      "outputs": [
        {
          "output_type": "stream",
          "text": [
            "            Confirmed\n",
            "Date                 \n",
            "2020-01-22        555\n",
            "2020-01-23        654\n",
            "2020-01-24        941\n",
            "2020-01-25       1434\n",
            "2020-01-26       2118\n",
            "...               ...\n",
            "2020-04-13    1904835\n",
            "2020-04-14    1976188\n",
            "2020-04-15    2056051\n",
            "2020-04-16    2152643\n",
            "2020-04-17    2240187\n",
            "\n",
            "[87 rows x 1 columns]\n"
          ],
          "name": "stdout"
        }
      ]
    },
    {
      "cell_type": "code",
      "metadata": {
        "id": "hi-2P3eDfbr3",
        "colab_type": "code",
        "colab": {
          "base_uri": "https://localhost:8080/",
          "height": 34
        },
        "outputId": "b7aaa52b-4823-40e1-a0ba-81ca3158390d"
      },
      "source": [
        "X.columns"
      ],
      "execution_count": 262,
      "outputs": [
        {
          "output_type": "execute_result",
          "data": {
            "text/plain": [
              "Index(['Confirmed'], dtype='object')"
            ]
          },
          "metadata": {
            "tags": []
          },
          "execution_count": 262
        }
      ]
    },
    {
      "cell_type": "code",
      "metadata": {
        "id": "uyZqYw7Lgf21",
        "colab_type": "code",
        "colab": {
          "base_uri": "https://localhost:8080/",
          "height": 281
        },
        "outputId": "9b45337a-0c4c-4e23-93d6-6011e4c5622e"
      },
      "source": [
        "plt.figure(figsize=(12,4))\n",
        "plt.title('Corona Count')\n",
        "plt.ylabel('Increment everyday')\n",
        "plt.grid(True)\n",
        "plt.autoscale(axis='x',tight=True)\n",
        "plt.plot(X['Confirmed'])\n",
        "plt.show()"
      ],
      "execution_count": 263,
      "outputs": [
        {
          "output_type": "display_data",
          "data": {
            "image/png": "[encoded data removed]",
            "text/plain": [
              "<Figure size 864x288 with 1 Axes>"
            ]
          },
          "metadata": {
            "tags": [],
            "needs_background": "light"
          }
        }
      ]
    },
    {
      "cell_type": "code",
      "metadata": {
        "id": "aNEjSa6ngrrz",
        "colab_type": "code",
        "colab": {
          "base_uri": "https://localhost:8080/",
          "height": 34
        },
        "outputId": "512ad3b4-1b05-433b-a1cd-498830a094c7"
      },
      "source": [
        "len(X)"
      ],
      "execution_count": 264,
      "outputs": [
        {
          "output_type": "execute_result",
          "data": {
            "text/plain": [
              "87"
            ]
          },
          "metadata": {
            "tags": []
          },
          "execution_count": 264
        }
      ]
    },
    {
      "cell_type": "markdown",
      "metadata": {
        "id": "fZ3x9IeIUyLO",
        "colab_type": "text"
      },
      "source": [
        "## 5) Feature Scaling "
      ]
    },
    {
      "cell_type": "code",
      "metadata": {
        "id": "I1BDs60XhLMv",
        "colab_type": "code",
        "colab": {}
      },
      "source": [
        "window_size = 5\n",
        "train_set = X[:-window_size].values\n",
        "test_set = X[-window_size:].values\n",
        "\n",
        "from sklearn.preprocessing import MinMaxScaler\n",
        "scaler = MinMaxScaler(feature_range=(-1,1))\n",
        "train_norm = scaler.fit_transform(train_set.reshape(-1,1))"
      ],
      "execution_count": 0,
      "outputs": []
    },
    {
      "cell_type": "markdown",
      "metadata": {
        "id": "qsCSikBzU6NH",
        "colab_type": "text"
      },
      "source": [
        "## 6) Dividing the data into sequences for LSTM"
      ]
    },
    {
      "cell_type": "code",
      "metadata": {
        "id": "wG2oEmbuZ3Lj",
        "colab_type": "code",
        "colab": {
          "base_uri": "https://localhost:8080/",
          "height": 34
        },
        "outputId": "fad2db98-2384-4c29-d29b-980e39fba3fb"
      },
      "source": [
        "window_size = 5\n",
        "train_norm = torch.FloatTensor(train_norm).view(-1)\n",
        "L = len(train_norm)\n",
        "def input_data(seq,ws):\n",
        "  out = []\n",
        "  for i in range(L-ws):\n",
        "    window = seq[i:i+ws]\n",
        "    output = seq[i+ws:i+ws+1]\n",
        "    out.append((window,output))\n",
        "\n",
        "  return out  \n",
        "\n",
        "training = input_data(train_norm,window_size)\n",
        "len(training)"
      ],
      "execution_count": 266,
      "outputs": [
        {
          "output_type": "execute_result",
          "data": {
            "text/plain": [
              "77"
            ]
          },
          "metadata": {
            "tags": []
          },
          "execution_count": 266
        }
      ]
    },
    {
      "cell_type": "markdown",
      "metadata": {
        "id": "1YkI2gpoVDs_",
        "colab_type": "text"
      },
      "source": [
        "## 7) Building a RNN-LSTM model"
      ]
    },
    {
      "cell_type": "code",
      "metadata": {
        "id": "t2UiC8-IXHOT",
        "colab_type": "code",
        "colab": {}
      },
      "source": [
        "class TableModel(nn.Module):\n",
        "  def __init__(self,in_feature=1,hidden_size=40,out_feature=1,dropout=0.5):\n",
        "    super().__init__()\n",
        "\n",
        "    self.hidden_size = hidden_size\n",
        "\n",
        "    self.lstm = nn.LSTM(in_feature,hidden_size)\n",
        "    self.linear = nn.Linear(hidden_size,out_feature,dropout)\n",
        "    self.hidden = (torch.zeros(1,1,self.hidden_size),torch.zeros(1,1,self.hidden_size))\n",
        "\n",
        "  def forward(self,seq):\n",
        "    lstm_out, self.hidden = self.lstm(seq.view(len(seq),1,-1), self.hidden)\n",
        "    pred = self.linear(lstm_out.view(len(seq),-1))\n",
        "    return pred[-1]  # we only want the last value"
      ],
      "execution_count": 0,
      "outputs": []
    },
    {
      "cell_type": "markdown",
      "metadata": {
        "id": "btBAVJXMVMwU",
        "colab_type": "text"
      },
      "source": [
        "## 8) Initialising the model and declaring loss function and optimizer"
      ]
    },
    {
      "cell_type": "code",
      "metadata": {
        "id": "t3Bw8IgHZ0c8",
        "colab_type": "code",
        "colab": {
          "base_uri": "https://localhost:8080/",
          "height": 85
        },
        "outputId": "ff54deec-6758-4ec4-c43d-d8804ae448e0"
      },
      "source": [
        "model = TableModel()\n",
        "criterion = nn.MSELoss()\n",
        "optimizer = torch.optim.Adam(model.parameters(),lr=0.0001)\n",
        "\n",
        "model"
      ],
      "execution_count": 271,
      "outputs": [
        {
          "output_type": "execute_result",
          "data": {
            "text/plain": [
              "TableModel(\n",
              "  (lstm): LSTM(1, 40)\n",
              "  (linear): Linear(in_features=40, out_features=1, bias=True)\n",
              ")"
            ]
          },
          "metadata": {
            "tags": []
          },
          "execution_count": 271
        }
      ]
    },
    {
      "cell_type": "markdown",
      "metadata": {
        "id": "LtYedWnxVV6L",
        "colab_type": "text"
      },
      "source": [
        "## 9) Model training on train dataset"
      ]
    },
    {
      "cell_type": "code",
      "metadata": {
        "id": "rXOGEHcncRYk",
        "colab_type": "code",
        "colab": {
          "base_uri": "https://localhost:8080/",
          "height": 204
        },
        "outputId": "141b4abf-0173-423f-9b83-bdd70aab4166"
      },
      "source": [
        "epochs = 1001\n",
        "\n",
        "for i in range(epochs):\n",
        "  for seq,y_train in training:    \n",
        "    optimizer.zero_grad()\n",
        "    model.hidden = (torch.zeros(1,1,model.hidden_size),\n",
        "                    torch.zeros(1,1,model.hidden_size))\n",
        "    \n",
        "    y_pred = model(seq)\n",
        "    \n",
        "    loss = criterion(y_pred, y_train)\n",
        "    loss.backward()\n",
        "    optimizer.step()\n",
        "\n",
        "  if i%100 == 0:\n",
        "    print(f'Epoch : {i} and Loss : {loss.item()}') \n",
        "\n"
      ],
      "execution_count": 272,
      "outputs": [
        {
          "output_type": "stream",
          "text": [
            "Epoch : 0 and Loss : 1.4964359998703003\n",
            "Epoch : 100 and Loss : 0.007326036691665649\n",
            "Epoch : 200 and Loss : 0.002559231361374259\n",
            "Epoch : 300 and Loss : 0.0002440065291011706\n",
            "Epoch : 400 and Loss : 0.0007785353227518499\n",
            "Epoch : 500 and Loss : 0.0009248872520402074\n",
            "Epoch : 600 and Loss : 0.0008685211068950593\n",
            "Epoch : 700 and Loss : 0.000820565561298281\n",
            "Epoch : 800 and Loss : 0.0007728181080892682\n",
            "Epoch : 900 and Loss : 0.0007245399174280465\n",
            "Epoch : 1000 and Loss : 0.0006775952642783523\n"
          ],
          "name": "stdout"
        }
      ]
    },
    {
      "cell_type": "markdown",
      "metadata": {
        "id": "8Vibc-tfecG1",
        "colab_type": "text"
      },
      "source": [
        "## 10) Testing on the test dataset"
      ]
    },
    {
      "cell_type": "code",
      "metadata": {
        "id": "-GeDgBtpdi6P",
        "colab_type": "code",
        "colab": {}
      },
      "source": [
        "future = 5\n",
        "\n",
        "preds = train_norm[-window_size:].tolist()\n",
        "\n",
        "model.eval()\n",
        "\n",
        "for i in range(future):\n",
        "  seq = torch.FloatTensor(preds[-window_size:])\n",
        "  with torch.no_grad():\n",
        "\n",
        "    model.hidden = (torch.zeros(1,1,model.hidden_size),torch.zeros(1,1,model.hidden_size))\n",
        "    preds.append(model(seq).item())\n",
        "\n"
      ],
      "execution_count": 0,
      "outputs": []
    },
    {
      "cell_type": "code",
      "metadata": {
        "id": "12_BQG_qfpxx",
        "colab_type": "code",
        "colab": {
          "base_uri": "https://localhost:8080/",
          "height": 102
        },
        "outputId": "d5561f5e-52b0-4f3a-958c-2985efeae0e9"
      },
      "source": [
        "preds[window_size:]"
      ],
      "execution_count": 274,
      "outputs": [
        {
          "output_type": "execute_result",
          "data": {
            "text/plain": [
              "[1.086310625076294,\n",
              " 1.1913975477218628,\n",
              " 1.2981668710708618,\n",
              " 1.4041190147399902,\n",
              " 1.5111790895462036]"
            ]
          },
          "metadata": {
            "tags": []
          },
          "execution_count": 274
        }
      ]
    },
    {
      "cell_type": "code",
      "metadata": {
        "id": "YZQKi140jXVC",
        "colab_type": "code",
        "colab": {
          "base_uri": "https://localhost:8080/",
          "height": 102
        },
        "outputId": "ce14dfe0-8b57-4cdb-999c-4d0b954cb25e"
      },
      "source": [
        "true_preds = scaler.inverse_transform(np.array(preds[window_size:]).reshape(-1,1))\n",
        "true_preds"
      ],
      "execution_count": 275,
      "outputs": [
        {
          "output_type": "execute_result",
          "data": {
            "text/plain": [
              "array([[1913871.87751091],\n",
              "       [2010245.15016109],\n",
              "       [2108161.32137197],\n",
              "       [2205328.07221627],\n",
              "       [2303510.88620967]])"
            ]
          },
          "metadata": {
            "tags": []
          },
          "execution_count": 275
        }
      ]
    },
    {
      "cell_type": "code",
      "metadata": {
        "id": "_eUPuY2Fjvy1",
        "colab_type": "code",
        "colab": {
          "base_uri": "https://localhost:8080/",
          "height": 235
        },
        "outputId": "49837e02-dedb-4ec0-cf60-da017efc3d50"
      },
      "source": [
        "X.tail()"
      ],
      "execution_count": 276,
      "outputs": [
        {
          "output_type": "execute_result",
          "data": {
            "text/html": [
              "<div>\n",
              "<style scoped>\n",
              "    .dataframe tbody tr th:only-of-type {\n",
              "        vertical-align: middle;\n",
              "    }\n",
              "\n",
              "    .dataframe tbody tr th {\n",
              "        vertical-align: top;\n",
              "    }\n",
              "\n",
              "    .dataframe thead th {\n",
              "        text-align: right;\n",
              "    }\n",
              "</style>\n",
              "<table border=\"1\" class=\"dataframe\">\n",
              "  <thead>\n",
              "    <tr style=\"text-align: right;\">\n",
              "      <th></th>\n",
              "      <th>Confirmed</th>\n",
              "    </tr>\n",
              "    <tr>\n",
              "      <th>Date</th>\n",
              "      <th></th>\n",
              "    </tr>\n",
              "  </thead>\n",
              "  <tbody>\n",
              "    <tr>\n",
              "      <th>2020-04-13</th>\n",
              "      <td>1904835</td>\n",
              "    </tr>\n",
              "    <tr>\n",
              "      <th>2020-04-14</th>\n",
              "      <td>1976188</td>\n",
              "    </tr>\n",
              "    <tr>\n",
              "      <th>2020-04-15</th>\n",
              "      <td>2056051</td>\n",
              "    </tr>\n",
              "    <tr>\n",
              "      <th>2020-04-16</th>\n",
              "      <td>2152643</td>\n",
              "    </tr>\n",
              "    <tr>\n",
              "      <th>2020-04-17</th>\n",
              "      <td>2240187</td>\n",
              "    </tr>\n",
              "  </tbody>\n",
              "</table>\n",
              "</div>"
            ],
            "text/plain": [
              "            Confirmed\n",
              "Date                 \n",
              "2020-04-13    1904835\n",
              "2020-04-14    1976188\n",
              "2020-04-15    2056051\n",
              "2020-04-16    2152643\n",
              "2020-04-17    2240187"
            ]
          },
          "metadata": {
            "tags": []
          },
          "execution_count": 276
        }
      ]
    },
    {
      "cell_type": "code",
      "metadata": {
        "id": "BCW1nzRanxSu",
        "colab_type": "code",
        "colab": {}
      },
      "source": [
        "#x = pd.DataFrame(['2020-04-13','2020-04-14','2020-04-15','2020-04-16','2020-04-17'])\n",
        "\n",
        "rng = pd.date_range('2020-04-13', periods=5)\n",
        "df = pd.DataFrame({ 'Date': rng})\n",
        "c = df['Date']"
      ],
      "execution_count": 0,
      "outputs": []
    },
    {
      "cell_type": "code",
      "metadata": {
        "id": "GeioC8ExlNNO",
        "colab_type": "code",
        "colab": {
          "base_uri": "https://localhost:8080/",
          "height": 281
        },
        "outputId": "22b99578-5d5d-4937-c41e-080f421c1b0b"
      },
      "source": [
        "plt.figure(figsize=(12,4))\n",
        "plt.title('Corona')\n",
        "plt.ylabel('Count per Day')\n",
        "plt.grid(True)\n",
        "plt.autoscale(axis='x',tight=True)\n",
        "plt.plot(X['Confirmed'])\n",
        "plt.plot(c,true_preds)\n",
        "plt.show()"
      ],
      "execution_count": 279,
      "outputs": [
        {
          "output_type": "display_data",
          "data": {
            "image/png": "[encoded data removed]",
            "text/plain": [
              "<Figure size 864x288 with 1 Axes>"
            ]
          },
          "metadata": {
            "tags": [],
            "needs_background": "light"
          }
        }
      ]
    },
    {
      "cell_type": "markdown",
      "metadata": {
        "id": "NC2hHAaEwvfs",
        "colab_type": "text"
      },
      "source": [
        "## 11) Predicting the future value\n"
      ]
    },
    {
      "cell_type": "markdown",
      "metadata": {
        "id": "PM21cgtdVrUQ",
        "colab_type": "text"
      },
      "source": [
        "### 11.1) Training on full dataset"
      ]
    },
    {
      "cell_type": "code",
      "metadata": {
        "id": "yzmd9mkonalD",
        "colab_type": "code",
        "colab": {
          "base_uri": "https://localhost:8080/",
          "height": 221
        },
        "outputId": "ea766c18-0624-4f46-a888-360709da6249"
      },
      "source": [
        "epochs = 1000\n",
        "\n",
        "# set model to back to training mode\n",
        "model.train()\n",
        "y = X['Confirmed'].values\n",
        "# feature scale the entire dataset\n",
        "y_norm = scaler.fit_transform(y.reshape(-1, 1))\n",
        "y_norm = torch.FloatTensor(y_norm).view(-1)\n",
        "all_data = input_data(y_norm,window_size)\n",
        "\n",
        "import time\n",
        "start_time = time.time()\n",
        "\n",
        "for epoch in range(epochs):\n",
        "    \n",
        "    # train on the full set of sequences\n",
        "    for seq, y_train in all_data:  \n",
        "        \n",
        "        # reset the parameters and hidden states\n",
        "        optimizer.zero_grad()\n",
        "        model.hidden = (torch.zeros(1,1,model.hidden_size),\n",
        "                        torch.zeros(1,1,model.hidden_size))\n",
        "        \n",
        "        y_pred = model(seq)\n",
        "        \n",
        "        loss = criterion(y_pred, y_train)\n",
        "        loss.backward()\n",
        "        optimizer.step()\n",
        "        \n",
        "    # print training result\n",
        "    if epoch%100 == 0:\n",
        "      print(f'Epoch: {epoch+1:2} Loss: {loss.item():10.8f}')\n",
        "    \n",
        "print(f'\\nDuration: {time.time() - start_time:.0f} seconds')"
      ],
      "execution_count": 280,
      "outputs": [
        {
          "output_type": "stream",
          "text": [
            "Epoch:  1 Loss: 0.00041449\n",
            "Epoch: 101 Loss: 0.00045223\n",
            "Epoch: 201 Loss: 0.00016798\n",
            "Epoch: 301 Loss: 0.00017536\n",
            "Epoch: 401 Loss: 0.00017855\n",
            "Epoch: 501 Loss: 0.00017844\n",
            "Epoch: 601 Loss: 0.00017634\n",
            "Epoch: 701 Loss: 0.00017261\n",
            "Epoch: 801 Loss: 0.00016782\n",
            "Epoch: 901 Loss: 0.00016238\n",
            "\n",
            "Duration: 144 seconds\n"
          ],
          "name": "stdout"
        }
      ]
    },
    {
      "cell_type": "markdown",
      "metadata": {
        "id": "AZF6PJjwVxv3",
        "colab_type": "text"
      },
      "source": [
        "### 11.2) Predicting Future Value for next 15 Days"
      ]
    },
    {
      "cell_type": "code",
      "metadata": {
        "id": "UyEKelA_2TuQ",
        "colab_type": "code",
        "colab": {
          "base_uri": "https://localhost:8080/",
          "height": 357
        },
        "outputId": "542b47f8-f58b-412e-d8a7-afed05f98e3f"
      },
      "source": [
        "window_size = 5\n",
        "future = 15\n",
        "L = len(y)\n",
        "\n",
        "preds = y_norm[-window_size:].tolist()\n",
        "\n",
        "model.eval()\n",
        "for i in range(future):  \n",
        "    seq = torch.FloatTensor(preds[-window_size:])\n",
        "    with torch.no_grad():\n",
        "        # Reset the hidden parameters here!\n",
        "        model.hidden = (torch.zeros(1,1,model.hidden_size),\n",
        "                        torch.zeros(1,1,model.hidden_size))  \n",
        "        preds.append(model(seq).item())\n",
        "\n",
        "# Inverse-normalize the prediction set\n",
        "true_predictions = scaler.inverse_transform(np.array(preds).reshape(-1, 1))\n",
        "true_predictions"
      ],
      "execution_count": 281,
      "outputs": [
        {
          "output_type": "execute_result",
          "data": {
            "text/plain": [
              "array([[1904835.02670908],\n",
              "       [1976188.01998901],\n",
              "       [2056051.02472544],\n",
              "       [2152642.97204447],\n",
              "       [2240187.        ],\n",
              "       [2432282.66402435],\n",
              "       [2556044.06673431],\n",
              "       [2688616.63991261],\n",
              "       [2824769.61462307],\n",
              "       [2958314.9474287 ],\n",
              "       [3086674.36476803],\n",
              "       [3192405.07307625],\n",
              "       [3285200.76153946],\n",
              "       [3363321.35581398],\n",
              "       [3426982.84671593],\n",
              "       [3477418.97165108],\n",
              "       [3516209.21352196],\n",
              "       [3546233.27188683],\n",
              "       [3569094.65829277],\n",
              "       [3586315.45388031]])"
            ]
          },
          "metadata": {
            "tags": []
          },
          "execution_count": 281
        }
      ]
    },
    {
      "cell_type": "markdown",
      "metadata": {
        "id": "SpPLTtM1WHid",
        "colab_type": "text"
      },
      "source": [
        "## 12) Showing the future prediction in the form of graph and tabular form"
      ]
    },
    {
      "cell_type": "code",
      "metadata": {
        "id": "13e_PsNx4mRn",
        "colab_type": "code",
        "colab": {}
      },
      "source": [
        "rng = pd.date_range('2020-04-13', periods=20)\n",
        "df = pd.DataFrame({ 'Date': rng})\n",
        "c = df['Date']"
      ],
      "execution_count": 0,
      "outputs": []
    },
    {
      "cell_type": "code",
      "metadata": {
        "id": "QeJbGd225BL8",
        "colab_type": "code",
        "colab": {
          "base_uri": "https://localhost:8080/",
          "height": 281
        },
        "outputId": "fbaaa914-3f6f-4c59-ea0e-c45288db326e"
      },
      "source": [
        "import datetime\n",
        "plt.figure(figsize=(16,4))\n",
        "plt.title('Corona')\n",
        "plt.ylabel('Count per Day')\n",
        "plt.grid(True)\n",
        "plt.autoscale(axis='x',tight=True)\n",
        "plt.plot(X['Confirmed'])\n",
        "plt.plot(c,true_predictions)\n",
        "plt.xlim([datetime.date(2020, 1, 23), datetime.date(2020, 4, 28)])\n",
        "plt.show()"
      ],
      "execution_count": 283,
      "outputs": [
        {
          "output_type": "display_data",
          "data": {
            "image/png": "[encoded data removed]",
            "text/plain": [
              "<Figure size 1152x288 with 1 Axes>"
            ]
          },
          "metadata": {
            "tags": [],
            "needs_background": "light"
          }
        }
      ]
    },
    {
      "cell_type": "code",
      "metadata": {
        "id": "a0w4ktvf5I_7",
        "colab_type": "code",
        "colab": {
          "base_uri": "https://localhost:8080/",
          "height": 839
        },
        "outputId": "f594b5b2-26d2-49f3-f1d3-7dbbd5b31710"
      },
      "source": [
        "true_pre = pd.DataFrame(true_predictions)\n",
        "dates = pd.date_range('2020-04-13', periods=20)\n",
        "x = dates.to_numpy()\n",
        "print(x)\n",
        "df = pd.DataFrame(x,columns=['Date'])\n",
        "df['Prediction'] = true_pre\n",
        "df"
      ],
      "execution_count": 296,
      "outputs": [
        {
          "output_type": "stream",
          "text": [
            "['2020-04-13T00:00:00.000000000' '2020-04-14T00:00:00.000000000'\n",
            " '2020-04-15T00:00:00.000000000' '2020-04-16T00:00:00.000000000'\n",
            " '2020-04-17T00:00:00.000000000' '2020-04-18T00:00:00.000000000'\n",
            " '2020-04-19T00:00:00.000000000' '2020-04-20T00:00:00.000000000'\n",
            " '2020-04-21T00:00:00.000000000' '2020-04-22T00:00:00.000000000'\n",
            " '2020-04-23T00:00:00.000000000' '2020-04-24T00:00:00.000000000'\n",
            " '2020-04-25T00:00:00.000000000' '2020-04-26T00:00:00.000000000'\n",
            " '2020-04-27T00:00:00.000000000' '2020-04-28T00:00:00.000000000'\n",
            " '2020-04-29T00:00:00.000000000' '2020-04-30T00:00:00.000000000'\n",
            " '2020-05-01T00:00:00.000000000' '2020-05-02T00:00:00.000000000']\n"
          ],
          "name": "stdout"
        },
        {
          "output_type": "execute_result",
          "data": {
            "text/html": [
              "<div>\n",
              "<style scoped>\n",
              "    .dataframe tbody tr th:only-of-type {\n",
              "        vertical-align: middle;\n",
              "    }\n",
              "\n",
              "    .dataframe tbody tr th {\n",
              "        vertical-align: top;\n",
              "    }\n",
              "\n",
              "    .dataframe thead th {\n",
              "        text-align: right;\n",
              "    }\n",
              "</style>\n",
              "<table border=\"1\" class=\"dataframe\">\n",
              "  <thead>\n",
              "    <tr style=\"text-align: right;\">\n",
              "      <th></th>\n",
              "      <th>Date</th>\n",
              "      <th>Prediction</th>\n",
              "    </tr>\n",
              "  </thead>\n",
              "  <tbody>\n",
              "    <tr>\n",
              "      <th>0</th>\n",
              "      <td>2020-04-13</td>\n",
              "      <td>1.904835e+06</td>\n",
              "    </tr>\n",
              "    <tr>\n",
              "      <th>1</th>\n",
              "      <td>2020-04-14</td>\n",
              "      <td>1.976188e+06</td>\n",
              "    </tr>\n",
              "    <tr>\n",
              "      <th>2</th>\n",
              "      <td>2020-04-15</td>\n",
              "      <td>2.056051e+06</td>\n",
              "    </tr>\n",
              "    <tr>\n",
              "      <th>3</th>\n",
              "      <td>2020-04-16</td>\n",
              "      <td>2.152643e+06</td>\n",
              "    </tr>\n",
              "    <tr>\n",
              "      <th>4</th>\n",
              "      <td>2020-04-17</td>\n",
              "      <td>2.240187e+06</td>\n",
              "    </tr>\n",
              "    <tr>\n",
              "      <th>5</th>\n",
              "      <td>2020-04-18</td>\n",
              "      <td>2.432283e+06</td>\n",
              "    </tr>\n",
              "    <tr>\n",
              "      <th>6</th>\n",
              "      <td>2020-04-19</td>\n",
              "      <td>2.556044e+06</td>\n",
              "    </tr>\n",
              "    <tr>\n",
              "      <th>7</th>\n",
              "      <td>2020-04-20</td>\n",
              "      <td>2.688617e+06</td>\n",
              "    </tr>\n",
              "    <tr>\n",
              "      <th>8</th>\n",
              "      <td>2020-04-21</td>\n",
              "      <td>2.824770e+06</td>\n",
              "    </tr>\n",
              "    <tr>\n",
              "      <th>9</th>\n",
              "      <td>2020-04-22</td>\n",
              "      <td>2.958315e+06</td>\n",
              "    </tr>\n",
              "    <tr>\n",
              "      <th>10</th>\n",
              "      <td>2020-04-23</td>\n",
              "      <td>3.086674e+06</td>\n",
              "    </tr>\n",
              "    <tr>\n",
              "      <th>11</th>\n",
              "      <td>2020-04-24</td>\n",
              "      <td>3.192405e+06</td>\n",
              "    </tr>\n",
              "    <tr>\n",
              "      <th>12</th>\n",
              "      <td>2020-04-25</td>\n",
              "      <td>3.285201e+06</td>\n",
              "    </tr>\n",
              "    <tr>\n",
              "      <th>13</th>\n",
              "      <td>2020-04-26</td>\n",
              "      <td>3.363321e+06</td>\n",
              "    </tr>\n",
              "    <tr>\n",
              "      <th>14</th>\n",
              "      <td>2020-04-27</td>\n",
              "      <td>3.426983e+06</td>\n",
              "    </tr>\n",
              "    <tr>\n",
              "      <th>15</th>\n",
              "      <td>2020-04-28</td>\n",
              "      <td>3.477419e+06</td>\n",
              "    </tr>\n",
              "    <tr>\n",
              "      <th>16</th>\n",
              "      <td>2020-04-29</td>\n",
              "      <td>3.516209e+06</td>\n",
              "    </tr>\n",
              "    <tr>\n",
              "      <th>17</th>\n",
              "      <td>2020-04-30</td>\n",
              "      <td>3.546233e+06</td>\n",
              "    </tr>\n",
              "    <tr>\n",
              "      <th>18</th>\n",
              "      <td>2020-05-01</td>\n",
              "      <td>3.569095e+06</td>\n",
              "    </tr>\n",
              "    <tr>\n",
              "      <th>19</th>\n",
              "      <td>2020-05-02</td>\n",
              "      <td>3.586315e+06</td>\n",
              "    </tr>\n",
              "  </tbody>\n",
              "</table>\n",
              "</div>"
            ],
            "text/plain": [
              "         Date    Prediction\n",
              "0  2020-04-13  1.904835e+06\n",
              "1  2020-04-14  1.976188e+06\n",
              "2  2020-04-15  2.056051e+06\n",
              "3  2020-04-16  2.152643e+06\n",
              "4  2020-04-17  2.240187e+06\n",
              "5  2020-04-18  2.432283e+06\n",
              "6  2020-04-19  2.556044e+06\n",
              "7  2020-04-20  2.688617e+06\n",
              "8  2020-04-21  2.824770e+06\n",
              "9  2020-04-22  2.958315e+06\n",
              "10 2020-04-23  3.086674e+06\n",
              "11 2020-04-24  3.192405e+06\n",
              "12 2020-04-25  3.285201e+06\n",
              "13 2020-04-26  3.363321e+06\n",
              "14 2020-04-27  3.426983e+06\n",
              "15 2020-04-28  3.477419e+06\n",
              "16 2020-04-29  3.516209e+06\n",
              "17 2020-04-30  3.546233e+06\n",
              "18 2020-05-01  3.569095e+06\n",
              "19 2020-05-02  3.586315e+06"
            ]
          },
          "metadata": {
            "tags": []
          },
          "execution_count": 296
        }
      ]
    },
    {
      "cell_type": "markdown",
      "metadata": {
        "id": "koA32u8kWSRR",
        "colab_type": "text"
      },
      "source": [
        "# Thank You!!!"
      ]
    }
  ]
}